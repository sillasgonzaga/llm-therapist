{
 "cells": [
  {
   "cell_type": "code",
   "execution_count": 2,
   "metadata": {},
   "outputs": [],
   "source": [
    "import sqlite3\n",
    "import pandas as pd\n",
    "from pathlib import Path\n",
    "import os\n",
    "pd.set_option('display.max_colwidth', 150)\n",
    "pd.set_option('display.max_rows', 100)\n",
    "\n"
   ]
  },
  {
   "cell_type": "code",
   "execution_count": 3,
   "metadata": {},
   "outputs": [],
   "source": [
    "db_folder = Path(\"../data\") if Path.cwd().name == \"notebooks\" else Path(\"./data\")\n",
    "DB_FILE = db_folder / \"desabafos_data.db\"\n"
   ]
  },
  {
   "cell_type": "code",
   "execution_count": 4,
   "metadata": {},
   "outputs": [],
   "source": [
    "conn = sqlite3.connect(DB_FILE)"
   ]
  },
  {
   "cell_type": "code",
   "execution_count": 5,
   "metadata": {},
   "outputs": [
    {
     "data": {
      "text/html": [
       "<div>\n",
       "<style scoped>\n",
       "    .dataframe tbody tr th:only-of-type {\n",
       "        vertical-align: middle;\n",
       "    }\n",
       "\n",
       "    .dataframe tbody tr th {\n",
       "        vertical-align: top;\n",
       "    }\n",
       "\n",
       "    .dataframe thead th {\n",
       "        text-align: right;\n",
       "    }\n",
       "</style>\n",
       "<table border=\"1\" class=\"dataframe\">\n",
       "  <thead>\n",
       "    <tr style=\"text-align: right;\">\n",
       "      <th></th>\n",
       "      <th>id</th>\n",
       "      <th>post_id</th>\n",
       "      <th>post_url</th>\n",
       "      <th>post_title</th>\n",
       "      <th>post_body</th>\n",
       "      <th>created_utc</th>\n",
       "      <th>processed_at</th>\n",
       "    </tr>\n",
       "  </thead>\n",
       "  <tbody>\n",
       "    <tr>\n",
       "      <th>0</th>\n",
       "      <td>10</td>\n",
       "      <td>1jpc4jk</td>\n",
       "      <td>https://www.reddit.com/r/desabafos/comments/1jpc4jk/crise_existencial/</td>\n",
       "      <td>Crise existencial</td>\n",
       "      <td>Hoje foi realmente um dia daqueles, e depois de um dia tão ruim resolvi assistir grey's anatomy e sai com uma grande crise existencial. A escolha ...</td>\n",
       "      <td>2025-04-02 01:01:03+00:00</td>\n",
       "      <td>2025-04-02 01:07:26</td>\n",
       "    </tr>\n",
       "  </tbody>\n",
       "</table>\n",
       "</div>"
      ],
      "text/plain": [
       "   id  post_id  \\\n",
       "0  10  1jpc4jk   \n",
       "\n",
       "                                                                 post_url  \\\n",
       "0  https://www.reddit.com/r/desabafos/comments/1jpc4jk/crise_existencial/   \n",
       "\n",
       "          post_title  \\\n",
       "0  Crise existencial   \n",
       "\n",
       "                                                                                                                                               post_body  \\\n",
       "0  Hoje foi realmente um dia daqueles, e depois de um dia tão ruim resolvi assistir grey's anatomy e sai com uma grande crise existencial. A escolha ...   \n",
       "\n",
       "                 created_utc         processed_at  \n",
       "0  2025-04-02 01:01:03+00:00  2025-04-02 01:07:26  "
      ]
     },
     "metadata": {},
     "output_type": "display_data"
    }
   ],
   "source": [
    "query = \"SELECT * FROM processed_posts where post_id = '1jpc4jk'\"\n",
    "df_latest_posts = pd.read_sql_query(query, conn)\n",
    "display(df_latest_posts) # display() is preferred in Jupyter for rich output\n"
   ]
  },
  {
   "cell_type": "code",
   "execution_count": 6,
   "metadata": {},
   "outputs": [
    {
     "data": {
      "text/html": [
       "<div>\n",
       "<style scoped>\n",
       "    .dataframe tbody tr th:only-of-type {\n",
       "        vertical-align: middle;\n",
       "    }\n",
       "\n",
       "    .dataframe tbody tr th {\n",
       "        vertical-align: top;\n",
       "    }\n",
       "\n",
       "    .dataframe thead th {\n",
       "        text-align: right;\n",
       "    }\n",
       "</style>\n",
       "<table border=\"1\" class=\"dataframe\">\n",
       "  <thead>\n",
       "    <tr style=\"text-align: right;\">\n",
       "      <th></th>\n",
       "      <th>id</th>\n",
       "      <th>post_id</th>\n",
       "      <th>input_prompt</th>\n",
       "      <th>llm_response</th>\n",
       "      <th>created_at</th>\n",
       "    </tr>\n",
       "  </thead>\n",
       "  <tbody>\n",
       "    <tr>\n",
       "      <th>0</th>\n",
       "      <td>1</td>\n",
       "      <td>1jpc4jk</td>\n",
       "      <td>\\n    O seguinte post foi feito no subreddit r/desabafos. Por favor, leia o título e o corpo do post e forneça um conselho ou uma perspectiva útil...</td>\n",
       "      <td>Oi! Primeiro, quero que saiba que é completamente normal passar por crises existenciais, especialmente em momentos de reflexão profunda, como o qu...</td>\n",
       "      <td>2025-04-02 01:07:26</td>\n",
       "    </tr>\n",
       "  </tbody>\n",
       "</table>\n",
       "</div>"
      ],
      "text/plain": [
       "   id  post_id  \\\n",
       "0   1  1jpc4jk   \n",
       "\n",
       "                                                                                                                                            input_prompt  \\\n",
       "0  \\n    O seguinte post foi feito no subreddit r/desabafos. Por favor, leia o título e o corpo do post e forneça um conselho ou uma perspectiva útil...   \n",
       "\n",
       "                                                                                                                                            llm_response  \\\n",
       "0  Oi! Primeiro, quero que saiba que é completamente normal passar por crises existenciais, especialmente em momentos de reflexão profunda, como o qu...   \n",
       "\n",
       "            created_at  \n",
       "0  2025-04-02 01:07:26  "
      ]
     },
     "metadata": {},
     "output_type": "display_data"
    }
   ],
   "source": [
    "query = \"SELECT * FROM llm_data  where post_id = '1jpc4jk'\"\n",
    "df_latest_posts = pd.read_sql_query(query, conn)\n",
    "display(df_latest_posts) # display() is preferred in Jupyter for rich output\n"
   ]
  },
  {
   "cell_type": "code",
   "execution_count": 7,
   "metadata": {},
   "outputs": [
    {
     "data": {
      "text/html": [
       "<div>\n",
       "<style scoped>\n",
       "    .dataframe tbody tr th:only-of-type {\n",
       "        vertical-align: middle;\n",
       "    }\n",
       "\n",
       "    .dataframe tbody tr th {\n",
       "        vertical-align: top;\n",
       "    }\n",
       "\n",
       "    .dataframe thead th {\n",
       "        text-align: right;\n",
       "    }\n",
       "</style>\n",
       "<table border=\"1\" class=\"dataframe\">\n",
       "  <thead>\n",
       "    <tr style=\"text-align: right;\">\n",
       "      <th></th>\n",
       "      <th>id</th>\n",
       "      <th>post_id</th>\n",
       "      <th>comment_id</th>\n",
       "      <th>comment_body</th>\n",
       "      <th>comment_score</th>\n",
       "      <th>comment_rank</th>\n",
       "      <th>is_actual_advice</th>\n",
       "      <th>similarity_score</th>\n",
       "      <th>fetched_at</th>\n",
       "    </tr>\n",
       "  </thead>\n",
       "  <tbody>\n",
       "  </tbody>\n",
       "</table>\n",
       "</div>"
      ],
      "text/plain": [
       "Empty DataFrame\n",
       "Columns: [id, post_id, comment_id, comment_body, comment_score, comment_rank, is_actual_advice, similarity_score, fetched_at]\n",
       "Index: []"
      ]
     },
     "metadata": {},
     "output_type": "display_data"
    }
   ],
   "source": [
    "query = \"SELECT * FROM post_comments  where post_id = '1jpc4jk'\"\n",
    "df_latest_posts = pd.read_sql_query(query, conn)\n",
    "display(df_latest_posts) # display() is preferred in Jupyter for rich output\n"
   ]
  },
  {
   "cell_type": "code",
   "execution_count": null,
   "metadata": {},
   "outputs": [],
   "source": []
  }
 ],
 "metadata": {
  "kernelspec": {
   "display_name": "Python (llm_therapist)",
   "language": "python",
   "name": ".venv"
  },
  "language_info": {
   "codemirror_mode": {
    "name": "ipython",
    "version": 3
   },
   "file_extension": ".py",
   "mimetype": "text/x-python",
   "name": "python",
   "nbconvert_exporter": "python",
   "pygments_lexer": "ipython3",
   "version": "3.10.12"
  }
 },
 "nbformat": 4,
 "nbformat_minor": 2
}
