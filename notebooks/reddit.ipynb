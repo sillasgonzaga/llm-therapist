{
 "cells": [
  {
   "cell_type": "code",
   "execution_count": 14,
   "metadata": {},
   "outputs": [],
   "source": [
    "import pandas as pd\n",
    "import sys, os\n",
    "# You can omit the sys.path.append() statement when the imports are from the same directory as the notebook.\n",
    "sys.path.insert(1, '/home/sillas/projetos/llm-therapist/')\n",
    "from src.reddit_scraper import get_reddit_instance"
   ]
  },
  {
   "cell_type": "code",
   "execution_count": 15,
   "metadata": {},
   "outputs": [
    {
     "name": "stderr",
     "output_type": "stream",
     "text": [
      "\u001b[32m2025-04-01 22:51:20.636\u001b[0m | \u001b[1mINFO    \u001b[0m | \u001b[36msrc.reddit_scraper\u001b[0m:\u001b[36mget_reddit_instance\u001b[0m:\u001b[36m20\u001b[0m - \u001b[1mPRAW Reddit instance created. Read-only: True\u001b[0m\n"
     ]
    }
   ],
   "source": [
    "reddit = get_reddit_instance()"
   ]
  },
  {
   "cell_type": "code",
   "execution_count": 16,
   "metadata": {},
   "outputs": [],
   "source": [
    "subreddit = reddit.subreddit('desabafos')"
   ]
  },
  {
   "cell_type": "code",
   "execution_count": null,
   "metadata": {},
   "outputs": [
    {
     "data": {
      "text/plain": [
       "<praw.models.listing.generator.ListingGenerator at 0x7facdf611db0>"
      ]
     },
     "execution_count": 21,
     "metadata": {},
     "output_type": "execute_result"
    }
   ],
   "source": [
    "def get_subreddit_posts(reddit: praw.Reddit, subreddit_name: str, limit: int):\n",
    "    \"\"\"Fetches posts from a specified subreddit that were posted at least 24 hours ago.\"\"\"\n",
    "    try:\n",
    "        subreddit = reddit.subreddit(subreddit_name)\n",
    "        all_posts = list(subreddit.new(limit=limit))\n",
    "        twenty_four_hours_ago = time.time() - 24 * 60 * 60  # 24 hours in seconds\n",
    "\n",
    "        filtered_posts = [post for post in all_posts if post.created_utc <= twenty_four_hours_ago]\n",
    "\n",
    "        logger.info(f\"Fetched {len(filtered_posts)} posts (older than 24h) from r/{subreddit_name}\")\n",
    "        return filtered_posts\n",
    "    except Exception as e:\n",
    "        logger.error(f\"Failed to fetch posts from r/{subreddit_name}: {e}\")\n",
    "        return []\n"
   ]
  },
  {
   "cell_type": "code",
   "execution_count": 23,
   "metadata": {},
   "outputs": [
    {
     "data": {
      "text/plain": [
       "1743522459.0"
      ]
     },
     "execution_count": 23,
     "metadata": {},
     "output_type": "execute_result"
    }
   ],
   "source": [
    "submission.created_utc"
   ]
  },
  {
   "cell_type": "code",
   "execution_count": null,
   "metadata": {},
   "outputs": [],
   "source": [
    "submission."
   ]
  }
 ],
 "metadata": {
  "kernelspec": {
   "display_name": "Python (llm_therapist)",
   "language": "python",
   "name": ".venv"
  },
  "language_info": {
   "codemirror_mode": {
    "name": "ipython",
    "version": 3
   },
   "file_extension": ".py",
   "mimetype": "text/x-python",
   "name": "python",
   "nbconvert_exporter": "python",
   "pygments_lexer": "ipython3",
   "version": "3.10.12"
  }
 },
 "nbformat": 4,
 "nbformat_minor": 2
}
